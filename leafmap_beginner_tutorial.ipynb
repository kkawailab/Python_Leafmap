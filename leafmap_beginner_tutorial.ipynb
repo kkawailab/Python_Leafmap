{
 "cells": [
  {
   "cell_type": "markdown",
   "metadata": {},
   "source": [
    "# Leafmap初心者向けチュートリアル\n",
    "\n",
    "このチュートリアルでは、Leafmapの基本的な使い方から実践的な例まで、ステップバイステップで学ぶことができます。\n",
    "\n",
    "## 目次\n",
    "1. [Leafmapとは](#leafmapとは)\n",
    "2. [インストール](#インストール)\n",
    "3. [基本的な使い方](#基本的な使い方)\n",
    "4. [ベースマップの操作](#ベースマップの操作)\n",
    "5. [地理空間データの表示](#地理空間データの表示)\n",
    "6. [インタラクティブな機能](#インタラクティブな機能)\n",
    "7. [実践的な例](#実践的な例)"
   ]
  },
  {
   "cell_type": "markdown",
   "metadata": {},
   "source": [
    "## Leafmapとは\n",
    "\n",
    "Leafmapは、Jupyter環境で最小限のコーディングで対話型地図作成と地理空間分析を可能にするPythonパッケージです。プログラミング経験が限られている初心者でも、簡単に美しい地図を作成できます。\n",
    "\n",
    "### 主な特徴\n",
    "- 🗺️ 数行のコードで対話型地図を作成\n",
    "- 🎨 複数のマッピングバックエンド対応（ipyleaflet、folium、kepler.gl）\n",
    "- 📊 ベクターデータとラスターデータの可視化\n",
    "- 🔍 OpenStreetMapデータのダウンロードと表示\n",
    "- ✏️ インタラクティブなベクターデータの作成・編集\n",
    "- 🎯 カスタム凡例とカラーバーの作成"
   ]
  },
  {
   "cell_type": "markdown",
   "metadata": {},
   "source": [
    "## インストール\n",
    "\n",
    "Leafmapをインストールしていない場合は、以下のセルを実行してください："
   ]
  },
  {
   "cell_type": "code",
   "execution_count": null,
   "metadata": {},
   "outputs": [],
   "source": [
    "# Leafmapのインストール（必要な場合のみ）\n",
    "# !pip install leafmap"
   ]
  },
  {
   "cell_type": "markdown",
   "metadata": {},
   "source": [
    "## 基本的な使い方\n",
    "\n",
    "### 1. ライブラリのインポート"
   ]
  },
  {
   "cell_type": "code",
   "execution_count": null,
   "metadata": {},
   "outputs": [],
   "source": [
    "import leafmap"
   ]
  },
  {
   "cell_type": "markdown",
   "metadata": {},
   "source": [
    "### 2. 基本的な地図の作成"
   ]
  },
  {
   "cell_type": "code",
   "execution_count": null,
   "metadata": {},
   "outputs": [],
   "source": [
    "# インタラクティブな地図を作成\n",
    "m = leafmap.Map()\n",
    "m"
   ]
  },
  {
   "cell_type": "markdown",
   "metadata": {},
   "source": [
    "### 3. 地図の中心とズームレベルの設定"
   ]
  },
  {
   "cell_type": "code",
   "execution_count": null,
   "metadata": {},
   "outputs": [],
   "source": [
    "# 東京を中心に地図を作成\n",
    "m = leafmap.Map(center=[35.6762, 139.6503], zoom=10)\n",
    "m"
   ]
  },
  {
   "cell_type": "markdown",
   "metadata": {},
   "source": [
    "### 4. 地図の高さと幅の設定"
   ]
  },
  {
   "cell_type": "code",
   "execution_count": null,
   "metadata": {},
   "outputs": [],
   "source": [
    "m = leafmap.Map(height=\"500px\", width=\"100%\")\n",
    "m"
   ]
  },
  {
   "cell_type": "markdown",
   "metadata": {},
   "source": [
    "## ベースマップの操作\n",
    "\n",
    "### 利用可能なベースマップの一覧表示"
   ]
  },
  {
   "cell_type": "code",
   "execution_count": null,
   "metadata": {},
   "outputs": [],
   "source": [
    "# 利用可能なベースマップのリストを取得\n",
    "basemaps = leafmap.basemaps.keys()\n",
    "print(f\"利用可能なベースマップ数: {len(basemaps)}\")\n",
    "\n",
    "# 最初の10個を表示\n",
    "print(\"\\n最初の10個のベースマップ:\")\n",
    "for i, basemap in enumerate(list(basemaps)[:10]):\n",
    "    print(f\"{i+1}. {basemap}\")"
   ]
  },
  {
   "cell_type": "markdown",
   "metadata": {},
   "source": [
    "### ベースマップの変更"
   ]
  },
  {
   "cell_type": "code",
   "execution_count": null,
   "metadata": {},
   "outputs": [],
   "source": [
    "# OpenStreetMapを使用\n",
    "m = leafmap.Map()\n",
    "m.add_basemap(\"OpenStreetMap\")\n",
    "m"
   ]
  },
  {
   "cell_type": "markdown",
   "metadata": {},
   "source": [
    "### 複数のベースマップを切り替え"
   ]
  },
  {
   "cell_type": "code",
   "execution_count": null,
   "metadata": {},
   "outputs": [],
   "source": [
    "m = leafmap.Map()\n",
    "m.add_basemap(\"HYBRID\")\n",
    "m.add_basemap(\"OpenTopoMap\")\n",
    "m"
   ]
  },
  {
   "cell_type": "markdown",
   "metadata": {},
   "source": [
    "### カスタムタイルレイヤーの追加"
   ]
  },
  {
   "cell_type": "code",
   "execution_count": null,
   "metadata": {},
   "outputs": [],
   "source": [
    "m = leafmap.Map()\n",
    "url = \"https://mt1.google.com/vt/lyrs=y&x={x}&y={y}&z={z}\"\n",
    "m.add_tile_layer(url, name=\"Google Satellite\", attribution=\"Google\")\n",
    "m"
   ]
  },
  {
   "cell_type": "markdown",
   "metadata": {},
   "source": [
    "## 地理空間データの表示\n",
    "\n",
    "### マーカーの追加"
   ]
  },
  {
   "cell_type": "code",
   "execution_count": null,
   "metadata": {},
   "outputs": [],
   "source": [
    "m = leafmap.Map(center=[35.6762, 139.6503], zoom=12)\n",
    "\n",
    "# 単一のマーカーを追加\n",
    "m.add_marker(location=[35.6762, 139.6503], popup=\"東京駅\")\n",
    "\n",
    "# 複数のマーカーを追加\n",
    "locations = [\n",
    "    [35.6586, 139.7454],  # 東京タワー\n",
    "    [35.7148, 139.7967],  # 東京スカイツリー\n",
    "    [35.6284, 139.7367]   # 品川駅\n",
    "]\n",
    "popups = [\"東京タワー\", \"東京スカイツリー\", \"品川駅\"]\n",
    "\n",
    "for loc, popup in zip(locations, popups):\n",
    "    m.add_marker(location=loc, popup=popup)\n",
    "m"
   ]
  },
  {
   "cell_type": "markdown",
   "metadata": {},
   "source": [
    "### GeoJSONデータの読み込み"
   ]
  },
  {
   "cell_type": "code",
   "execution_count": null,
   "metadata": {},
   "outputs": [],
   "source": [
    "m = leafmap.Map()\n",
    "\n",
    "# GeoJSONファイルの読み込み\n",
    "geojson_url = \"https://raw.githubusercontent.com/opengeos/leafmap/master/examples/data/cable_geo.geojson\"\n",
    "m.add_geojson(geojson_url, layer_name=\"Cable lines\")\n",
    "m"
   ]
  },
  {
   "cell_type": "markdown",
   "metadata": {},
   "source": [
    "### Shapefileの読み込み"
   ]
  },
  {
   "cell_type": "code",
   "execution_count": null,
   "metadata": {},
   "outputs": [],
   "source": [
    "m = leafmap.Map()\n",
    "\n",
    "# Shapefileの読み込み\n",
    "shapefile_url = \"https://github.com/opengeos/leafmap/raw/master/examples/data/countries.zip\"\n",
    "m.add_shp(shapefile_url, layer_name=\"Countries\")\n",
    "m"
   ]
  },
  {
   "cell_type": "markdown",
   "metadata": {},
   "source": [
    "### ラスターデータの表示"
   ]
  },
  {
   "cell_type": "code",
   "execution_count": null,
   "metadata": {},
   "outputs": [],
   "source": [
    "m = leafmap.Map()\n",
    "\n",
    "# COG（Cloud Optimized GeoTIFF）の表示\n",
    "url = \"https://github.com/opengeos/data/releases/download/raster/Libya-2023-07-01.tif\"\n",
    "m.add_cog_layer(url, name=\"Libya\")\n",
    "m"
   ]
  },
  {
   "cell_type": "markdown",
   "metadata": {},
   "source": [
    "## インタラクティブな機能\n",
    "\n",
    "### 描画ツールの使用"
   ]
  },
  {
   "cell_type": "code",
   "execution_count": null,
   "metadata": {},
   "outputs": [],
   "source": [
    "m = leafmap.Map()\n",
    "\n",
    "# 描画コントロールを追加\n",
    "m.add_draw_control()\n",
    "m"
   ]
  },
  {
   "cell_type": "markdown",
   "metadata": {},
   "source": [
    "### 測定ツール"
   ]
  },
  {
   "cell_type": "code",
   "execution_count": null,
   "metadata": {},
   "outputs": [],
   "source": [
    "m = leafmap.Map()\n",
    "\n",
    "# 測定ツールを追加\n",
    "m.add_measure_control()\n",
    "m"
   ]
  },
  {
   "cell_type": "markdown",
   "metadata": {},
   "source": [
    "### 分割画面マップ"
   ]
  },
  {
   "cell_type": "code",
   "execution_count": null,
   "metadata": {},
   "outputs": [],
   "source": [
    "# 左右で異なるベースマップを表示\n",
    "m = leafmap.Map()\n",
    "m.split_map(left_layer=\"TERRAIN\", right_layer=\"OpenTopoMap\")\n",
    "m"
   ]
  },
  {
   "cell_type": "markdown",
   "metadata": {},
   "source": [
    "### タイムスライダー"
   ]
  },
  {
   "cell_type": "code",
   "execution_count": null,
   "metadata": {},
   "outputs": [],
   "source": [
    "m = leafmap.Map()\n",
    "\n",
    "# タイムシリーズデータの表示（例：MODIS温度データ）\n",
    "url = \"https://github.com/opengeos/data/releases/download/netcdf/MODIS_LST.nc\"\n",
    "m.add_netcdf(url, variables=[\"LST\"], palette=\"viridis\", vmin=270, vmax=310)\n",
    "m"
   ]
  },
  {
   "cell_type": "markdown",
   "metadata": {},
   "source": [
    "## 実践的な例\n",
    "\n",
    "### 例1: 日本の主要都市をマッピング"
   ]
  },
  {
   "cell_type": "code",
   "execution_count": null,
   "metadata": {},
   "outputs": [],
   "source": [
    "import leafmap\n",
    "\n",
    "# 地図の作成\n",
    "m = leafmap.Map(center=[36.5, 138.0], zoom=5)\n",
    "\n",
    "# 主要都市のデータ\n",
    "cities = {\n",
    "    \"東京\": [35.6762, 139.6503],\n",
    "    \"大阪\": [34.6937, 135.5023],\n",
    "    \"名古屋\": [35.1815, 136.9066],\n",
    "    \"札幌\": [43.0642, 141.3469],\n",
    "    \"福岡\": [33.5904, 130.4017],\n",
    "    \"仙台\": [38.2682, 140.8694],\n",
    "    \"広島\": [34.3853, 132.4553],\n",
    "    \"京都\": [35.0116, 135.7681]\n",
    "}\n",
    "\n",
    "# マーカーの追加\n",
    "for city, coords in cities.items():\n",
    "    m.add_marker(\n",
    "        location=coords, \n",
    "        popup=f\"<b>{city}</b><br>緯度: {coords[0]}<br>経度: {coords[1]}\"\n",
    "    )\n",
    "\n",
    "m"
   ]
  },
  {
   "cell_type": "markdown",
   "metadata": {},
   "source": [
    "### 例2: コロプレスマップの作成"
   ]
  },
  {
   "cell_type": "code",
   "execution_count": null,
   "metadata": {},
   "outputs": [],
   "source": [
    "import leafmap\n",
    "import geopandas as gpd\n",
    "\n",
    "# 地図の作成\n",
    "m = leafmap.Map()\n",
    "\n",
    "# サンプルデータの読み込み\n",
    "url = \"https://raw.githubusercontent.com/opengeos/leafmap/master/examples/data/countries.geojson\"\n",
    "\n",
    "# コロプレスマップの追加\n",
    "m.add_geojson(\n",
    "    url,\n",
    "    layer_name=\"Countries\",\n",
    "    style={\n",
    "        \"fillColor\": \"#ff7800\",\n",
    "        \"color\": \"black\",\n",
    "        \"weight\": 1,\n",
    "        \"fillOpacity\": 0.7\n",
    "    }\n",
    ")\n",
    "\n",
    "m"
   ]
  },
  {
   "cell_type": "markdown",
   "metadata": {},
   "source": [
    "### 例3: ヒートマップの作成"
   ]
  },
  {
   "cell_type": "code",
   "execution_count": null,
   "metadata": {},
   "outputs": [],
   "source": [
    "import leafmap\n",
    "import random\n",
    "\n",
    "# 地図の作成\n",
    "m = leafmap.Map(center=[35.6762, 139.6503], zoom=11)\n",
    "\n",
    "# ランダムなポイントデータの生成\n",
    "heat_data = []\n",
    "for i in range(100):\n",
    "    lat = 35.6762 + random.uniform(-0.1, 0.1)\n",
    "    lon = 139.6503 + random.uniform(-0.1, 0.1)\n",
    "    heat_data.append([lat, lon])\n",
    "\n",
    "# ヒートマップの追加\n",
    "m.add_heatmap(\n",
    "    heat_data,\n",
    "    name=\"Heat map\",\n",
    "    radius=15\n",
    ")\n",
    "\n",
    "m"
   ]
  },
  {
   "cell_type": "markdown",
   "metadata": {},
   "source": [
    "## 地図の保存\n",
    "\n",
    "### HTMLファイルとして保存"
   ]
  },
  {
   "cell_type": "code",
   "execution_count": null,
   "metadata": {},
   "outputs": [],
   "source": [
    "# 最後に作成した地図をHTMLファイルとして保存\n",
    "# m.to_html(\"my_map.html\")"
   ]
  },
  {
   "cell_type": "markdown",
   "metadata": {},
   "source": [
    "### 画像として保存"
   ]
  },
  {
   "cell_type": "code",
   "execution_count": null,
   "metadata": {},
   "outputs": [],
   "source": [
    "# 地図を画像として保存（要: geckodriver または chromedriver）\n",
    "# m.to_image(\"my_map.png\")"
   ]
  },
  {
   "cell_type": "markdown",
   "metadata": {},
   "source": [
    "## まとめ\n",
    "\n",
    "このチュートリアルでは、Leafmapの基本的な機能を学びました：\n",
    "\n",
    "1. **基本的な地図の作成**: `leafmap.Map()`で簡単に地図を作成\n",
    "2. **ベースマップの操作**: 様々なベースマップの切り替えとカスタマイズ\n",
    "3. **データの可視化**: マーカー、GeoJSON、Shapefile、ラスターデータの表示\n",
    "4. **インタラクティブな機能**: 描画、測定、分割画面などのツール\n",
    "5. **実践的な応用**: 日本の都市マッピング、コロプレス、ヒートマップ\n",
    "\n",
    "Leafmapを使用することで、複雑な地理空間データも簡単に可視化でき、インタラクティブな地図アプリケーションを作成できます。\n",
    "\n",
    "### 次のステップ\n",
    "\n",
    "- [Leafmap公式ドキュメント](https://leafmap.org)で詳細な機能を確認\n",
    "- [GitHubリポジトリ](https://github.com/opengeos/leafmap)でサンプルコードを探索\n",
    "- Google Earth EngineやWhiteboxToolsとの統合を試す\n",
    "\n",
    "Happy Mapping! 🗺️"
   ]
  }
 ],
 "metadata": {
  "kernelspec": {
   "display_name": "Python 3",
   "language": "python",
   "name": "python3"
  },
  "language_info": {
   "codemirror_mode": {
    "name": "ipython",
    "version": 3
   },
   "file_extension": ".py",
   "mimetype": "text/x-python",
   "name": "python",
   "nbconvert_exporter": "python",
   "pygments_lexer": "ipython3",
   "version": "3.8.0"
  }
 },
 "nbformat": 4,
 "nbformat_minor": 4
}